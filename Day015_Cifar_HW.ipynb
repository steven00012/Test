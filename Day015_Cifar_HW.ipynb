{
 "cells": [
  {
   "cell_type": "markdown",
   "metadata": {},
   "source": [
    "## 『本次練習內容』\n",
    "#### 運用這幾天所學觀念搭建一個CNN分類器"
   ]
  },
  {
   "cell_type": "markdown",
   "metadata": {},
   "source": [
    "## 『本次練習目的』\n",
    "  #### 熟悉CNN分類器搭建步驟與原理\n",
    "  #### 學員們可以嘗試不同搭法，如使用不同的Maxpooling層，用GlobalAveragePooling取代Flatten等等"
   ]
  },
  {
   "cell_type": "code",
   "execution_count": 1,
   "metadata": {},
   "outputs": [
    {
     "name": "stderr",
     "output_type": "stream",
     "text": [
      "C:\\ProgramData\\Anaconda3\\envs\\tensorflow\\lib\\site-packages\\h5py\\__init__.py:36: FutureWarning: Conversion of the second argument of issubdtype from `float` to `np.floating` is deprecated. In future, it will be treated as `np.float64 == np.dtype(float).type`.\n",
      "  from ._conv import register_converters as _register_converters\n",
      "Using TensorFlow backend.\n"
     ]
    }
   ],
   "source": [
    "from keras.models import Sequential\n",
    "from keras.layers import Convolution2D\n",
    "from keras.layers import MaxPooling2D\n",
    "from keras.layers import Flatten\n",
    "from keras.layers import Dense\n",
    "from keras.layers import Dropout\n",
    "from keras.layers import BatchNormalization\n",
    "from keras.datasets import cifar10\n",
    "import numpy as np\n",
    "import tensorflow as tf\n",
    "from sklearn.preprocessing import OneHotEncoder\n"
   ]
  },
  {
   "cell_type": "code",
   "execution_count": 2,
   "metadata": {},
   "outputs": [
    {
     "name": "stdout",
     "output_type": "stream",
     "text": [
      "Downloading data from https://www.cs.toronto.edu/~kriz/cifar-10-python.tar.gz\n",
      "170500096/170498071 [==============================] - 32s 0us/step\n",
      "(50000, 32, 32, 3)\n"
     ]
    }
   ],
   "source": [
    "(x_train, y_train), (x_test, y_test) = cifar10.load_data()\n",
    "\n",
    "print(x_train.shape) #(50000, 32, 32, 3)\n",
    "\n",
    "## Normalize Data\n",
    "def normalize(X_train,X_test):\n",
    "        mean = np.mean(X_train,axis=(0,1,2,3))\n",
    "        std = np.std(X_train, axis=(0, 1, 2, 3))\n",
    "        X_train = (X_train-mean)/(std+1e-7)\n",
    "        X_test = (X_test-mean)/(std+1e-7) \n",
    "        return X_train, X_test,mean,std\n",
    "    \n",
    "    \n",
    "## Normalize Training and Testset    \n",
    "x_train, x_test,mean_train,std_train = normalize(x_train, x_test) "
   ]
  },
  {
   "cell_type": "code",
   "execution_count": 3,
   "metadata": {},
   "outputs": [],
   "source": [
    "## OneHot Label 由(None, 1)-(None, 10)\n",
    "## ex. label=2,變成[0,0,1,0,0,0,0,0,0,0]\n",
    "one_hot=OneHotEncoder()\n",
    "y_train=one_hot.fit_transform(y_train).toarray()\n",
    "y_test=one_hot.transform(y_test).toarray()"
   ]
  },
  {
   "cell_type": "code",
   "execution_count": 4,
   "metadata": {},
   "outputs": [
    {
     "name": "stderr",
     "output_type": "stream",
     "text": [
      "C:\\ProgramData\\Anaconda3\\envs\\tensorflow\\lib\\site-packages\\ipykernel_launcher.py:5: UserWarning: Update your `Conv2D` call to the Keras 2 API: `Conv2D(32, (3, 3), activation=\"relu\", input_shape=(32, 32, 3...)`\n",
      "  \"\"\"\n",
      "C:\\ProgramData\\Anaconda3\\envs\\tensorflow\\lib\\site-packages\\ipykernel_launcher.py:12: UserWarning: Update your `Conv2D` call to the Keras 2 API: `Conv2D(32, (3, 3), activation=\"relu\", input_shape=(32, 32, 3...)`\n",
      "  if sys.path[0] == '':\n",
      "C:\\ProgramData\\Anaconda3\\envs\\tensorflow\\lib\\site-packages\\ipykernel_launcher.py:22: UserWarning: Update your `Dense` call to the Keras 2 API: `Dense(activation=\"relu\", units=10)`\n"
     ]
    },
    {
     "name": "stdout",
     "output_type": "stream",
     "text": [
      "Epoch 1/100\n",
      "50000/50000 [==============================] - 41s 826us/step - loss: 2.2201 - accuracy: 0.3014\n",
      "Epoch 2/100\n",
      "50000/50000 [==============================] - 41s 822us/step - loss: 1.9729 - accuracy: 0.3014\n",
      "Epoch 3/100\n",
      "50000/50000 [==============================] - 41s 824us/step - loss: 1.9951 - accuracy: 0.2830\n",
      "Epoch 4/100\n",
      "50000/50000 [==============================] - 42s 832us/step - loss: 1.9258 - accuracy: 0.3153\n",
      "Epoch 5/100\n",
      "50000/50000 [==============================] - 41s 817us/step - loss: 1.8761 - accuracy: 0.3501\n",
      "Epoch 6/100\n",
      "50000/50000 [==============================] - 41s 826us/step - loss: 1.7933 - accuracy: 0.3951\n",
      "Epoch 7/100\n",
      "50000/50000 [==============================] - 41s 819us/step - loss: 1.6916 - accuracy: 0.4318\n",
      "Epoch 8/100\n",
      "50000/50000 [==============================] - 41s 815us/step - loss: 1.9051 - accuracy: 0.3684\n",
      "Epoch 9/100\n",
      "50000/50000 [==============================] - 41s 822us/step - loss: 1.7522 - accuracy: 0.4084\n",
      "Epoch 10/100\n",
      "50000/50000 [==============================] - 41s 816us/step - loss: 1.6618 - accuracy: 0.4498\n",
      "Epoch 11/100\n",
      "50000/50000 [==============================] - 41s 818us/step - loss: 1.7040 - accuracy: 0.4344\n",
      "Epoch 12/100\n",
      "50000/50000 [==============================] - 41s 814us/step - loss: 1.7281 - accuracy: 0.4156\n",
      "Epoch 13/100\n",
      "50000/50000 [==============================] - 41s 818us/step - loss: 1.6919 - accuracy: 0.4308\n",
      "Epoch 14/100\n",
      "50000/50000 [==============================] - 41s 815us/step - loss: 1.7651 - accuracy: 0.4024\n",
      "Epoch 15/100\n",
      "50000/50000 [==============================] - 41s 816us/step - loss: 1.6205 - accuracy: 0.4654\n",
      "Epoch 16/100\n",
      "50000/50000 [==============================] - 41s 814us/step - loss: 1.5567 - accuracy: 0.4958\n",
      "Epoch 17/100\n",
      "50000/50000 [==============================] - 41s 811us/step - loss: 1.6027 - accuracy: 0.4790\n",
      "Epoch 18/100\n",
      "50000/50000 [==============================] - 41s 814us/step - loss: 1.5729 - accuracy: 0.4882\n",
      "Epoch 19/100\n",
      "50000/50000 [==============================] - 41s 813us/step - loss: 1.5454 - accuracy: 0.5024\n",
      "Epoch 20/100\n",
      "50000/50000 [==============================] - 41s 813us/step - loss: 1.5249 - accuracy: 0.5129\n",
      "Epoch 21/100\n",
      "50000/50000 [==============================] - 41s 816us/step - loss: 1.5539 - accuracy: 0.5051\n",
      "Epoch 22/100\n",
      "50000/50000 [==============================] - 41s 811us/step - loss: 1.5857 - accuracy: 0.4830\n",
      "Epoch 23/100\n",
      "50000/50000 [==============================] - 41s 811us/step - loss: 1.4693 - accuracy: 0.5249\n",
      "Epoch 24/100\n",
      "50000/50000 [==============================] - 41s 812us/step - loss: 1.5476 - accuracy: 0.4845\n",
      "Epoch 25/100\n",
      "50000/50000 [==============================] - 41s 811us/step - loss: 1.6613 - accuracy: 0.4514\n",
      "Epoch 26/100\n",
      "50000/50000 [==============================] - 41s 813us/step - loss: 1.4767 - accuracy: 0.5184\n",
      "Epoch 27/100\n",
      "50000/50000 [==============================] - 41s 812us/step - loss: 1.4583 - accuracy: 0.5284\n",
      "Epoch 28/100\n",
      "50000/50000 [==============================] - 41s 813us/step - loss: 1.6641 - accuracy: 0.4485\n",
      "Epoch 29/100\n",
      "50000/50000 [==============================] - 41s 813us/step - loss: 1.5506 - accuracy: 0.4733\n",
      "Epoch 30/100\n",
      "50000/50000 [==============================] - 41s 812us/step - loss: 1.4626 - accuracy: 0.5212\n",
      "Epoch 31/100\n",
      "50000/50000 [==============================] - 41s 812us/step - loss: 1.4130 - accuracy: 0.5414\n",
      "Epoch 32/100\n",
      "50000/50000 [==============================] - 41s 810us/step - loss: 1.4355 - accuracy: 0.5377\n",
      "Epoch 33/100\n",
      "50000/50000 [==============================] - 41s 811us/step - loss: 1.6175 - accuracy: 0.4628\n",
      "Epoch 34/100\n",
      "50000/50000 [==============================] - 41s 810us/step - loss: 1.4265 - accuracy: 0.5312\n",
      "Epoch 35/100\n",
      "50000/50000 [==============================] - 41s 811us/step - loss: 1.3984 - accuracy: 0.5487\n",
      "Epoch 36/100\n",
      "50000/50000 [==============================] - 41s 811us/step - loss: 1.3648 - accuracy: 0.5649\n",
      "Epoch 37/100\n",
      "50000/50000 [==============================] - 41s 812us/step - loss: 1.3533 - accuracy: 0.5717\n",
      "Epoch 38/100\n",
      "50000/50000 [==============================] - 41s 811us/step - loss: 1.3580 - accuracy: 0.5725\n",
      "Epoch 39/100\n",
      "50000/50000 [==============================] - 41s 814us/step - loss: 1.3615 - accuracy: 0.5606\n",
      "Epoch 40/100\n",
      "50000/50000 [==============================] - 41s 813us/step - loss: 1.2823 - accuracy: 0.5869\n",
      "Epoch 41/100\n",
      "50000/50000 [==============================] - 41s 814us/step - loss: 1.3207 - accuracy: 0.5842\n",
      "Epoch 42/100\n",
      "50000/50000 [==============================] - 41s 815us/step - loss: 1.3014 - accuracy: 0.5897\n",
      "Epoch 43/100\n",
      "50000/50000 [==============================] - 41s 814us/step - loss: 1.3233 - accuracy: 0.5860\n",
      "Epoch 44/100\n",
      "50000/50000 [==============================] - 41s 812us/step - loss: 1.3209 - accuracy: 0.5915\n",
      "Epoch 45/100\n",
      "50000/50000 [==============================] - 41s 813us/step - loss: 1.2731 - accuracy: 0.5928\n",
      "Epoch 46/100\n",
      "50000/50000 [==============================] - 41s 812us/step - loss: 1.2508 - accuracy: 0.6018\n",
      "Epoch 47/100\n",
      "50000/50000 [==============================] - 41s 815us/step - loss: 1.2049 - accuracy: 0.6201\n",
      "Epoch 48/100\n",
      "50000/50000 [==============================] - 41s 813us/step - loss: 1.2611 - accuracy: 0.6068\n",
      "Epoch 49/100\n",
      "50000/50000 [==============================] - 41s 812us/step - loss: 1.1702 - accuracy: 0.6279\n",
      "Epoch 50/100\n",
      "50000/50000 [==============================] - 41s 813us/step - loss: 1.2233 - accuracy: 0.6201\n",
      "Epoch 51/100\n",
      "50000/50000 [==============================] - 41s 813us/step - loss: 1.3372 - accuracy: 0.5903\n",
      "Epoch 52/100\n",
      "50000/50000 [==============================] - 41s 813us/step - loss: 1.2331 - accuracy: 0.6080\n",
      "Epoch 53/100\n",
      "50000/50000 [==============================] - 41s 813us/step - loss: 1.1748 - accuracy: 0.6226\n",
      "Epoch 54/100\n",
      "50000/50000 [==============================] - 41s 813us/step - loss: 1.1395 - accuracy: 0.6366\n",
      "Epoch 55/100\n",
      "50000/50000 [==============================] - 41s 812us/step - loss: 1.5541 - accuracy: 0.5398\n",
      "Epoch 56/100\n",
      "50000/50000 [==============================] - 41s 814us/step - loss: 1.2588 - accuracy: 0.5954\n",
      "Epoch 57/100\n",
      "50000/50000 [==============================] - 41s 816us/step - loss: 1.2494 - accuracy: 0.6021\n",
      "Epoch 58/100\n",
      "50000/50000 [==============================] - 41s 816us/step - loss: 1.1593 - accuracy: 0.6299\n",
      "Epoch 59/100\n",
      "50000/50000 [==============================] - 195s 4ms/step - loss: 1.1304 - accuracy: 0.6425\n",
      "Epoch 60/100\n",
      "50000/50000 [==============================] - 41s 819us/step - loss: 1.1008 - accuracy: 0.6496\n",
      "Epoch 61/100\n",
      "50000/50000 [==============================] - 40s 810us/step - loss: nan - accuracy: 0.4032\n",
      "Epoch 62/100\n",
      "50000/50000 [==============================] - 40s 807us/step - loss: nan - accuracy: 0.1000\n",
      "Epoch 63/100\n",
      "50000/50000 [==============================] - 40s 806us/step - loss: nan - accuracy: 0.1000\n",
      "Epoch 64/100\n",
      "50000/50000 [==============================] - 40s 805us/step - loss: nan - accuracy: 0.1000\n",
      "Epoch 65/100\n",
      "50000/50000 [==============================] - 40s 807us/step - loss: nan - accuracy: 0.1000\n",
      "Epoch 66/100\n",
      "50000/50000 [==============================] - 40s 806us/step - loss: nan - accuracy: 0.1000\n",
      "Epoch 67/100\n",
      "50000/50000 [==============================] - 41s 810us/step - loss: nan - accuracy: 0.1000\n",
      "Epoch 68/100\n",
      "50000/50000 [==============================] - 40s 810us/step - loss: nan - accuracy: 0.1000\n",
      "Epoch 69/100\n",
      "50000/50000 [==============================] - 40s 806us/step - loss: nan - accuracy: 0.1000\n",
      "Epoch 70/100\n",
      "50000/50000 [==============================] - 40s 807us/step - loss: nan - accuracy: 0.1000\n",
      "Epoch 71/100\n",
      "50000/50000 [==============================] - 40s 808us/step - loss: nan - accuracy: 0.1000\n",
      "Epoch 72/100\n",
      "50000/50000 [==============================] - 40s 808us/step - loss: nan - accuracy: 0.1000\n",
      "Epoch 73/100\n",
      "50000/50000 [==============================] - 40s 809us/step - loss: nan - accuracy: 0.1000\n",
      "Epoch 74/100\n",
      "50000/50000 [==============================] - 40s 807us/step - loss: nan - accuracy: 0.1000\n",
      "Epoch 75/100\n",
      "50000/50000 [==============================] - 40s 807us/step - loss: nan - accuracy: 0.1000\n",
      "Epoch 76/100\n"
     ]
    },
    {
     "name": "stdout",
     "output_type": "stream",
     "text": [
      "50000/50000 [==============================] - 40s 803us/step - loss: nan - accuracy: 0.1000\n",
      "Epoch 77/100\n",
      "50000/50000 [==============================] - 40s 804us/step - loss: nan - accuracy: 0.1000\n",
      "Epoch 78/100\n",
      "50000/50000 [==============================] - 40s 802us/step - loss: nan - accuracy: 0.1000\n",
      "Epoch 79/100\n",
      "50000/50000 [==============================] - 40s 802us/step - loss: nan - accuracy: 0.1000\n",
      "Epoch 80/100\n",
      "50000/50000 [==============================] - 40s 804us/step - loss: nan - accuracy: 0.1000\n",
      "Epoch 81/100\n",
      "50000/50000 [==============================] - 40s 804us/step - loss: nan - accuracy: 0.1000\n",
      "Epoch 82/100\n",
      "50000/50000 [==============================] - 40s 805us/step - loss: nan - accuracy: 0.1000\n",
      "Epoch 83/100\n",
      "50000/50000 [==============================] - 40s 805us/step - loss: nan - accuracy: 0.1000\n",
      "Epoch 84/100\n",
      "50000/50000 [==============================] - 40s 803us/step - loss: nan - accuracy: 0.1000\n",
      "Epoch 85/100\n",
      "50000/50000 [==============================] - 40s 803us/step - loss: nan - accuracy: 0.1000\n",
      "Epoch 86/100\n",
      "50000/50000 [==============================] - 40s 803us/step - loss: nan - accuracy: 0.1000\n",
      "Epoch 87/100\n",
      "50000/50000 [==============================] - 40s 803us/step - loss: nan - accuracy: 0.1000\n",
      "Epoch 88/100\n",
      "50000/50000 [==============================] - 40s 803us/step - loss: nan - accuracy: 0.1000\n",
      "Epoch 89/100\n",
      "50000/50000 [==============================] - 40s 806us/step - loss: nan - accuracy: 0.1000\n",
      "Epoch 90/100\n",
      "50000/50000 [==============================] - 40s 804us/step - loss: nan - accuracy: 0.1000\n",
      "Epoch 91/100\n",
      "50000/50000 [==============================] - 40s 804us/step - loss: nan - accuracy: 0.1000\n",
      "Epoch 92/100\n",
      "50000/50000 [==============================] - 40s 806us/step - loss: nan - accuracy: 0.1000\n",
      "Epoch 93/100\n",
      "50000/50000 [==============================] - 40s 803us/step - loss: nan - accuracy: 0.1000\n",
      "Epoch 94/100\n",
      "50000/50000 [==============================] - 40s 804us/step - loss: nan - accuracy: 0.1000\n",
      "Epoch 95/100\n",
      "50000/50000 [==============================] - 40s 805us/step - loss: nan - accuracy: 0.1000\n",
      "Epoch 96/100\n",
      "50000/50000 [==============================] - 40s 804us/step - loss: nan - accuracy: 0.1000\n",
      "Epoch 97/100\n",
      "50000/50000 [==============================] - 40s 805us/step - loss: nan - accuracy: 0.1000\n",
      "Epoch 98/100\n",
      "50000/50000 [==============================] - 41s 810us/step - loss: nan - accuracy: 0.1000\n",
      "Epoch 99/100\n",
      "50000/50000 [==============================] - 40s 806us/step - loss: nan - accuracy: 0.1000\n",
      "Epoch 100/100\n",
      "50000/50000 [==============================] - 40s 804us/step - loss: nan - accuracy: 0.1000\n"
     ]
    },
    {
     "data": {
      "text/plain": [
       "<keras.callbacks.callbacks.History at 0x26d3533f240>"
      ]
     },
     "execution_count": 4,
     "metadata": {},
     "output_type": "execute_result"
    }
   ],
   "source": [
    "\n",
    "classifier=Sequential()\n",
    "\n",
    "#卷積組合\n",
    "classifier.add(Convolution2D(32, 3, 3, input_shape = (32, 32, 3), activation = 'relu'))#32,3,3,input_shape=(32,32,3),activation='relu''\n",
    "classifier.add(BatchNormalization())\n",
    "\n",
    "#'''自己決定MaxPooling2D放在哪裡'''\n",
    "classifier.add(MaxPooling2D(pool_size=(2,2)))\n",
    "\n",
    "#卷積組合\n",
    "classifier.add(Convolution2D(32, 3, 3, input_shape = (32, 32, 3), activation = 'relu'))\n",
    "classifier.add(BatchNormalization())\n",
    "\n",
    "#flatten\n",
    "classifier.add(Flatten())\n",
    "\n",
    "#FC\n",
    "classifier.add(Dense(100,activation='relu')) #output_dim=100,activation=relu\n",
    "\n",
    "#輸出\n",
    "classifier.add(Dense(output_dim=10,activation='relu'))\n",
    "\n",
    "#超過兩個就要選categorical_crossentrophy\n",
    "classifier.compile(optimizer = 'adam', loss = 'categorical_crossentropy', metrics = ['accuracy'])\n",
    "classifier.fit(x_train,y_train,batch_size=100,epochs=100)"
   ]
  },
  {
   "cell_type": "markdown",
   "metadata": {},
   "source": [
    "## 預測新圖片，輸入影像前處理要與訓練時相同\n",
    "#### ((X-mean)/(std+1e-7) ):這裡的mean跟std是訓練集的\n",
    "## 維度如下方示範"
   ]
  },
  {
   "cell_type": "code",
   "execution_count": 5,
   "metadata": {},
   "outputs": [
    {
     "data": {
      "text/plain": [
       "array([[nan, nan, nan, nan, nan, nan, nan, nan, nan, nan]], dtype=float32)"
      ]
     },
     "execution_count": 5,
     "metadata": {},
     "output_type": "execute_result"
    }
   ],
   "source": [
    "input_example=(np.zeros(shape=(1,32,32,3))-mean_train)/(std_train+1e-7) \n",
    "classifier.predict(input_example)"
   ]
  }
 ],
 "metadata": {
  "kernelspec": {
   "display_name": "Python 3",
   "language": "python",
   "name": "python3"
  },
  "language_info": {
   "codemirror_mode": {
    "name": "ipython",
    "version": 3
   },
   "file_extension": ".py",
   "mimetype": "text/x-python",
   "name": "python",
   "nbconvert_exporter": "python",
   "pygments_lexer": "ipython3",
   "version": "3.5.5"
  }
 },
 "nbformat": 4,
 "nbformat_minor": 2
}
