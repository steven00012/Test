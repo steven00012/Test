{
 "cells": [
  {
   "cell_type": "markdown",
   "metadata": {},
   "source": [
    "# 作業\n",
    "\n",
    "思考一下我們前面有提到圖片是矩陣，但維度可能會不一樣\n",
    "例如灰階圖只有兩個維度，RGB 彩圖則有 3 個維度\n",
    "\n",
    "假如今天我們把 RGB 3 個維度拆開來看會有甚麼不同的效果呢？"
   ]
  },
  {
   "cell_type": "code",
   "execution_count": 6,
   "metadata": {},
   "outputs": [],
   "source": [
    "import cv2\n",
    "import numpy as np\n",
    "\n",
    "image=cv2.imread(\"C:\\\\Users\\\\kai09\\\\Desktop\\\\ML\\\\D1\\\\lena.png\");\n",
    "B,G,R = cv2.split(image);                       \n",
    "zeros = np.zeros(image.shape[:2],dtype=\"uint8\");\n",
    "cv2.imshow(\"BLUE\",cv2.merge([B,zeros,zeros]));\n",
    "cv2.imshow(\"GREEN\",cv2.merge([zeros,G,zeros]));\n",
    "cv2.imshow(\"RED\",cv2.merge([zeros,zeros,R]));\n",
    "cv2.waitKey(0);\n"
   ]
  },
  {
   "cell_type": "code",
   "execution_count": null,
   "metadata": {},
   "outputs": [],
   "source": []
  }
 ],
 "metadata": {
  "kernelspec": {
   "display_name": "Python 3",
   "language": "python",
   "name": "python3"
  },
  "language_info": {
   "codemirror_mode": {
    "name": "ipython",
    "version": 3
   },
   "file_extension": ".py",
   "mimetype": "text/x-python",
   "name": "python",
   "nbconvert_exporter": "python",
   "pygments_lexer": "ipython3",
   "version": "3.5.5"
  }
 },
 "nbformat": 4,
 "nbformat_minor": 2
}
